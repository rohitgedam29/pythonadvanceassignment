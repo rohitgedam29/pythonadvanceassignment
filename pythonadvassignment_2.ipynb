{
 "cells": [
  {
   "cell_type": "code",
   "execution_count": null,
   "id": "8ae47de2",
   "metadata": {},
   "outputs": [],
   "source": [
    "# Q1. What is the relationship between classes and modules?"
   ]
  },
  {
   "cell_type": "code",
   "execution_count": null,
   "id": "df2e6ad0",
   "metadata": {},
   "outputs": [],
   "source": [
    "Ans: A Python class is like an outline/blueprint/mold for creating a new object.\n",
    "     An object is anything that you wish to manipulate or change while working through the code. \n",
    "     Every time a class object is instantiated, which is when we declare a variable, a new object is initiated from scratch\n",
    "\n",
    "    Whereas in Python, Modules are simply files with the . py extension containing Python code that can be imported\n",
    "    inside another Python Program. In simple terms, we can consider a module to be the same as a code library or a file \n",
    "    that contains a set of functions/Classes that you want to include in your application."
   ]
  },
  {
   "cell_type": "code",
   "execution_count": null,
   "id": "35a4a28e",
   "metadata": {},
   "outputs": [],
   "source": [
    "# Q2. How do you make instances and classes"
   ]
  },
  {
   "cell_type": "code",
   "execution_count": null,
   "id": "26fe3239",
   "metadata": {},
   "outputs": [],
   "source": [
    "Ans: For creating a class instance. we call a class by its name and pass the arguments which its init method accepts.\n",
    "\n",
    "Example:  company = employee('Male',20000), Here company is an instance of class employee with attriubutes \n",
    "          'Male' and 20000.\n",
    "\n",
    "           Whereas for creating a class, we use the Class keyword. Class keyword is followed by classname and semicolon.\n",
    "            "
   ]
  },
  {
   "cell_type": "code",
   "execution_count": null,
   "id": "238a22be",
   "metadata": {},
   "outputs": [],
   "source": [
    "# Q3. Where and how should be class attributes created?"
   ]
  },
  {
   "cell_type": "code",
   "execution_count": null,
   "id": "0c51e4af",
   "metadata": {},
   "outputs": [],
   "source": [
    "Ans: Class attributes or Class level Attributes belong to the class itself. these attributes will be shared by all the \n",
    "     instances of the class. Hence these attributes are usually created/defined in the top of class definiation outside \n",
    "     all methods.\n",
    "\n",
    "Example: In the below code we are defining a class attribute called no_of_wheels which will be shared by \n",
    "         all the instances of the class Car"
   ]
  },
  {
   "cell_type": "code",
   "execution_count": null,
   "id": "905a7995",
   "metadata": {},
   "outputs": [],
   "source": [
    "class Car:\n",
    "    no_of_wheels = 4;                    # this is a class attribute\n",
    "    def __init__(self,color,price,engine):\n",
    "        self.color = color                # All this are instance attributes\n",
    "        self.price = price\n",
    "        self.engine = engine"
   ]
  },
  {
   "cell_type": "code",
   "execution_count": null,
   "id": "07ff482d",
   "metadata": {},
   "outputs": [],
   "source": [
    "# Q4. Where and how are instance attributes created?"
   ]
  },
  {
   "cell_type": "code",
   "execution_count": null,
   "id": "e254ccd1",
   "metadata": {},
   "outputs": [],
   "source": [
    "Ans: Instances attributes are passed to the class when an object of the class is created. Unlike class attributes,\n",
    "     instance attributes are not shared by all objects of the classs. instead each object maintains its own copy of \n",
    "     instance attributes at object level. whereas incase of class attributes all instances of class refer to a single copy\n",
    "     Usually instance attributes are defined within the init method of class\n",
    "\n",
    "Example: In the below sample code we are creating a class Car with instance varaibles \n",
    "      color, price, engine, which will be provided when an instance of class Car is created."
   ]
  },
  {
   "cell_type": "code",
   "execution_count": 3,
   "id": "23c83c21",
   "metadata": {},
   "outputs": [],
   "source": [
    "class Car:\n",
    "    def __init__(self,color,price,engine):\n",
    "        self.color = color            # All this are instance attributes\n",
    "        self.price = price\n",
    "        self.engine = engine\n",
    "\n",
    "nexon_ = Car(' Blue', 1400000, 'electric')\n",
    "Dzire = Car('Pearl White',900000, 'petrol')"
   ]
  },
  {
   "cell_type": "code",
   "execution_count": null,
   "id": "00e356ed",
   "metadata": {},
   "outputs": [],
   "source": [
    "# Q5. What does the term \"self\" in a Python class mean?\n"
   ]
  },
  {
   "cell_type": "code",
   "execution_count": null,
   "id": "fc95b0af",
   "metadata": {},
   "outputs": [],
   "source": [
    "Ans: self represents the instance of the class (it represents the object itself). \n",
    "    By using the “self” keyword we can access the attributes and methods of the class with in the class in python. \n",
    "    It binds the attributes with the given arguments.\n",
    "\n"
   ]
  },
  {
   "cell_type": "code",
   "execution_count": 4,
   "id": "8332121a",
   "metadata": {},
   "outputs": [
    {
     "name": "stdout",
     "output_type": "stream",
     "text": [
      "{'color': 'Indigo Blue', 'price': 1400000, 'engine': 'electric'}\n",
      "{'color': 'Pearl White', 'price': 900000, 'engine': 'petrol'}\n"
     ]
    }
   ],
   "source": [
    "class Car:\n",
    "    def __init__(self,color,price,engine):\n",
    "        self.color = color # All this are instance attributes\n",
    "        self.price = price\n",
    "        self.engine = engine\n",
    "\n",
    "nexon = Car('Indigo Blue', 1400000, 'electric')\n",
    "Dzire = Car('Pearl White',900000, 'petrol')\n",
    "\n",
    "print(nexon.__dict__)\n",
    "print(Dzire.__dict__)"
   ]
  },
  {
   "cell_type": "code",
   "execution_count": null,
   "id": "afe38b1e",
   "metadata": {},
   "outputs": [],
   "source": [
    "# Q6. How does a Python class handle operator overloading?"
   ]
  },
  {
   "cell_type": "code",
   "execution_count": null,
   "id": "9efd25bc",
   "metadata": {},
   "outputs": [],
   "source": [
    "Ans: Python Classes handle operator overloading by using special methods called Magic methods. \n",
    "     these special methods usually begin and end with __ (double underscore)\n",
    "\n",
    "Example: Magic methods for basic arithmetic operators are:\n",
    "\n",
    " + -> __add__()\n",
    " - -> __sub__()\n",
    " * -> __mul__()\n",
    " / -> __div__()"
   ]
  },
  {
   "cell_type": "code",
   "execution_count": 6,
   "id": "130b57dc",
   "metadata": {},
   "outputs": [
    {
     "name": "stdout",
     "output_type": "stream",
     "text": [
      "The total number of 2 numbers is  300\n"
     ]
    }
   ],
   "source": [
    "class magic:\n",
    "    def __init__(self,num):\n",
    "        self.num = num\n",
    "    def __add__(self,other):\n",
    "        return self.num + other.num\n",
    "b1 = magic(100)\n",
    "b2 = magic(200)\n",
    "print(f'The total number of 2 numbers is  {b1+b2}')"
   ]
  },
  {
   "cell_type": "code",
   "execution_count": null,
   "id": "90cf17eb",
   "metadata": {},
   "outputs": [],
   "source": [
    "# Q7. When do you consider allowing operator overloading of your classes?"
   ]
  },
  {
   "cell_type": "code",
   "execution_count": null,
   "id": "9ad3d01e",
   "metadata": {},
   "outputs": [],
   "source": [
    "Ans: When we want to have different meaning for the same operator accroding to the context we use operator overloading"
   ]
  },
  {
   "cell_type": "code",
   "execution_count": null,
   "id": "be563ae9",
   "metadata": {},
   "outputs": [],
   "source": [
    "# Q8. What is the most popular form of operator overloading?"
   ]
  },
  {
   "cell_type": "code",
   "execution_count": null,
   "id": "9b84c1e8",
   "metadata": {},
   "outputs": [],
   "source": [
    "Ans: The most popular form of operator overloading in python is by special methods called Magic methods. \n",
    "     Which usually beign and end with double underscore\n",
    "     __<method name>__."
   ]
  },
  {
   "cell_type": "code",
   "execution_count": 7,
   "id": "8d41e0cf",
   "metadata": {},
   "outputs": [
    {
     "name": "stdout",
     "output_type": "stream",
     "text": [
      "Sum -> 3\n",
      "String Concatenation -> ineuron .ai\n"
     ]
    }
   ],
   "source": [
    "class A:\n",
    "    def __init__(self,a):\n",
    "        self.a = a\n",
    "    def __add__(self,o):\n",
    "        return self.a+o.a\n",
    "obj1 = A(1)\n",
    "obj2 = A(2)\n",
    "obj3 = A('ineuron')\n",
    "obj4 = A(' .ai')\n",
    "print(f'Sum -> {obj1+obj2}')\n",
    "print(f'String Concatenation -> {obj3+obj4}')"
   ]
  },
  {
   "cell_type": "code",
   "execution_count": null,
   "id": "c5ce788d",
   "metadata": {},
   "outputs": [],
   "source": [
    "# Q9. What are the two most important concepts to grasp in order to comprehend Python OOP code?"
   ]
  },
  {
   "cell_type": "code",
   "execution_count": null,
   "id": "dc235743",
   "metadata": {},
   "outputs": [],
   "source": [
    "Ans: Classes and objects are the two concepts to comprehend python OOP code as more formally objects are entities\n",
    "     that represent instances of general abstract concept called class\n",
    "\n",
    "Along with classes and objects the important concepts to grasp are:\n",
    "\n",
    "Inheritence\n",
    "Abstraction\n",
    "Polymorphism\n",
    "Encapsulation"
   ]
  },
  {
   "cell_type": "code",
   "execution_count": null,
   "id": "3952b894",
   "metadata": {},
   "outputs": [],
   "source": []
  },
  {
   "cell_type": "code",
   "execution_count": null,
   "id": "01407804",
   "metadata": {},
   "outputs": [],
   "source": []
  },
  {
   "cell_type": "code",
   "execution_count": null,
   "id": "8e7f25e9",
   "metadata": {},
   "outputs": [],
   "source": []
  },
  {
   "cell_type": "code",
   "execution_count": null,
   "id": "952a5887",
   "metadata": {},
   "outputs": [],
   "source": []
  },
  {
   "cell_type": "code",
   "execution_count": null,
   "id": "1572bab7",
   "metadata": {},
   "outputs": [],
   "source": []
  }
 ],
 "metadata": {
  "kernelspec": {
   "display_name": "Python 3 (ipykernel)",
   "language": "python",
   "name": "python3"
  },
  "language_info": {
   "codemirror_mode": {
    "name": "ipython",
    "version": 3
   },
   "file_extension": ".py",
   "mimetype": "text/x-python",
   "name": "python",
   "nbconvert_exporter": "python",
   "pygments_lexer": "ipython3",
   "version": "3.9.7"
  }
 },
 "nbformat": 4,
 "nbformat_minor": 5
}
