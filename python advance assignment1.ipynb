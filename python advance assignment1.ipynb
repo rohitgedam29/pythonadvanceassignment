{
 "cells": [
  {
   "cell_type": "markdown",
   "id": "d392b721",
   "metadata": {},
   "source": [
    "# Que 1. What is the purpose of Python's OOP?"
   ]
  },
  {
   "cell_type": "code",
   "execution_count": null,
   "id": "43fdda8e",
   "metadata": {},
   "outputs": [],
   "source": [
    "\n",
    "Ans: Object-oriented programming is a programming paradigm that provides a means of structuring programs so that \n",
    "    properties and behaviors are bundled into individual objects\n",
    "\n",
    "    In Python, object-oriented Programming (OOPs) uses objects and classes in programming.\n",
    "    It aims to implement real-world entities like inheritance, polymorphisms, encapsulation, etc. in the programming. \n",
    "    The main concept of OOPs is to bind the data and the functions that work on that together as a single unit so that\n",
    "    no other part of the code can access this data.\n",
    "   \n",
    "    It comes up with the following advantages:\n",
    "        It helps to divide our over all program into different small segments and thus making it solving easy with the\n",
    "        use of objects Helps in easy maintenance and modification of existing program Multiple instances of an object\n",
    "        can be made."
   ]
  },
  {
   "cell_type": "markdown",
   "id": "1b10d68e",
   "metadata": {},
   "source": [
    "# Que 2. Where does an inheritance search look for an attribute?"
   ]
  },
  {
   "cell_type": "code",
   "execution_count": null,
   "id": "6d425209",
   "metadata": {},
   "outputs": [],
   "source": [
    "Ans: Python searches for an attribute in an upward tree of attributes. \n",
    "     it first searches for the attribute in its instance and then looks in the class it is generated from, \n",
    "     to all super classes listed in its class header\n",
    "\n"
   ]
  },
  {
   "cell_type": "markdown",
   "id": "6f9445b9",
   "metadata": {},
   "source": [
    "# Que 3. How do you distinguish between a class object and an instance object?"
   ]
  },
  {
   "cell_type": "code",
   "execution_count": null,
   "id": "534ebfb8",
   "metadata": {},
   "outputs": [],
   "source": [
    "Ans: The differences between a class object and an instance object are:\n",
    "\n",
    "      Class is a template for creating objects whereas object is an instance of class Seperate memory is allocated\n",
    "      for each object whenever an object is created. but for a class this doesnot happens.\n",
    "      A Class is created once. Many objects are created using a class. As Classes have no allocated memory. \n",
    "      they can't be manipulated. but objects can be manipulated."
   ]
  },
  {
   "cell_type": "markdown",
   "id": "158452ab",
   "metadata": {},
   "source": [
    "# Que 4. What makes the first argument in a class’s method function special?"
   ]
  },
  {
   "cell_type": "code",
   "execution_count": null,
   "id": "84f1d7fa",
   "metadata": {},
   "outputs": [],
   "source": [
    "Ans: Python Classes usually have three types of methods which are:\n",
    "\n",
    "     Instance Methods (object level methods)\n",
    "     Class Methods (class level methods)\n",
    "     Static Methods (general utility methods)\n",
    "     self is the first argument for instance methods. which refers to the object itself\n",
    "     cls is the first argument for class methods which refers to the class itself"
   ]
  },
  {
   "cell_type": "markdown",
   "id": "cbc29e6f",
   "metadata": {},
   "source": [
    "# Que 5. What is the purpose of the __init__ method?"
   ]
  },
  {
   "cell_type": "code",
   "execution_count": null,
   "id": "a889128d",
   "metadata": {},
   "outputs": [],
   "source": [
    "Ans: init is a reseved method in python classes. It serves the role of a constructor in object oriented terminology. \n",
    "     This method is called when an object is created from a class and it allows the class to initialize the attributes \n",
    "     of the class"
   ]
  },
  {
   "cell_type": "markdown",
   "id": "746416c4",
   "metadata": {},
   "source": [
    "# Que 6. What is the process for creating a class instance?"
   ]
  },
  {
   "cell_type": "code",
   "execution_count": null,
   "id": "0865c445",
   "metadata": {},
   "outputs": [],
   "source": [
    "Ans: To create a class instance, we need to call the class by its name and pass the arguments to the class,\n",
    "     which  init method accepts.\n",
    "    Example:  name = my_class(\"ineuron\",\"fsds\") \n",
    "        Here name is an instance of class my_class with attributes \"ineuron\" and \"fsds\""
   ]
  },
  {
   "cell_type": "markdown",
   "id": "63560b03",
   "metadata": {},
   "source": [
    "# Que 7. What is the process for creating a class?"
   ]
  },
  {
   "cell_type": "code",
   "execution_count": null,
   "id": "3ce11c87",
   "metadata": {},
   "outputs": [],
   "source": [
    "Ans: class keyword is used to created a class in python. The syntax to create a class in python is class :\n",
    "\n",
    "    Example: class Car: ➞ this creates a class called Car"
   ]
  },
  {
   "cell_type": "markdown",
   "id": "64391c99",
   "metadata": {},
   "source": [
    "# Que 8. How would you define the superclasses of a class?"
   ]
  },
  {
   "cell_type": "code",
   "execution_count": null,
   "id": "89a8ca8a",
   "metadata": {},
   "outputs": [],
   "source": [
    "Ans-  Superclass/Parent class is given as a arugment to the child class\n",
    "\n",
    "      Example: class Employee(Person): Here child class Employee inherits attributes and method  \n",
    "              from Superclass/Parent Person"
   ]
  },
  {
   "cell_type": "code",
   "execution_count": null,
   "id": "dad84d19",
   "metadata": {},
   "outputs": [],
   "source": []
  },
  {
   "cell_type": "code",
   "execution_count": null,
   "id": "a05ded8d",
   "metadata": {},
   "outputs": [],
   "source": []
  },
  {
   "cell_type": "code",
   "execution_count": null,
   "id": "628dfb44",
   "metadata": {},
   "outputs": [],
   "source": []
  }
 ],
 "metadata": {
  "kernelspec": {
   "display_name": "Python 3 (ipykernel)",
   "language": "python",
   "name": "python3"
  },
  "language_info": {
   "codemirror_mode": {
    "name": "ipython",
    "version": 3
   },
   "file_extension": ".py",
   "mimetype": "text/x-python",
   "name": "python",
   "nbconvert_exporter": "python",
   "pygments_lexer": "ipython3",
   "version": "3.9.7"
  }
 },
 "nbformat": 4,
 "nbformat_minor": 5
}
